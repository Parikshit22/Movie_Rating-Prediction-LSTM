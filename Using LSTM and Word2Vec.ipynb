{
 "cells": [
  {
   "cell_type": "code",
   "execution_count": 1,
   "metadata": {},
   "outputs": [],
   "source": [
    "import pickle\n",
    "pickle_in = open(\"xtrain.pickle\",\"rb\")\n",
    "xtrain = pickle.load(pickle_in)\n",
    "pickle_in.close()"
   ]
  },
  {
   "cell_type": "code",
   "execution_count": 2,
   "metadata": {},
   "outputs": [],
   "source": [
    "import pickle\n",
    "pickle_in = open(\"xtest.pickle\",\"rb\")\n",
    "xtest = pickle.load(pickle_in)\n",
    "pickle_in.close()"
   ]
  },
  {
   "cell_type": "code",
   "execution_count": 3,
   "metadata": {},
   "outputs": [],
   "source": [
    "import pickle\n",
    "pickle_in = open(\"ytrain.pickle\",\"rb\")\n",
    "ytrain = pickle.load(pickle_in)\n",
    "pickle_in.close()"
   ]
  },
  {
   "cell_type": "code",
   "execution_count": 4,
   "metadata": {},
   "outputs": [
    {
     "name": "stderr",
     "output_type": "stream",
     "text": [
      "/home/vidooly/ml/software/python_env/env_ten/lib/python3.5/site-packages/smart_open/smart_open_lib.py:398: UserWarning: This function is deprecated, use smart_open.open instead. See the migration notes for details: https://github.com/RaRe-Technologies/smart_open/blob/master/README.rst#migrating-to-the-new-open-function\n",
      "  'See the migration notes for details: %s' % _MIGRATION_NOTES_URL\n"
     ]
    }
   ],
   "source": [
    "import gensim\n",
    "from gensim.models import word2vec,KeyedVectors\n",
    "word_vectors = KeyedVectors.load_word2vec_format('GoogleNews-vectors-negative300.bin',binary = True)"
   ]
  },
  {
   "cell_type": "code",
   "execution_count": 9,
   "metadata": {},
   "outputs": [
    {
     "name": "stdout",
     "output_type": "stream",
     "text": [
      "(300,)\n"
     ]
    }
   ],
   "source": [
    "emb_dim = word_vectors[\"the\"].shape\n",
    "print(emb_dim)"
   ]
  },
  {
   "cell_type": "code",
   "execution_count": 20,
   "metadata": {},
   "outputs": [],
   "source": [
    "import numpy as np\n",
    "def sec2vec(x):\n",
    "    maxlen = 10\n",
    "    state_vec = np.zeros((len(x),maxlen,emb_dim[0]))\n",
    "    for i in range(len(x)):\n",
    "        \n",
    "        for j in range(maxlen):\n",
    "            try:\n",
    "                state_vec[i][j] = word_vectors[x[i][j].lower()]\n",
    "            except:\n",
    "                state_vec[i][j] = np.zeros((300,))\n",
    "    return state_vec"
   ]
  },
  {
   "cell_type": "code",
   "execution_count": 21,
   "metadata": {},
   "outputs": [],
   "source": [
    "stae_vec = sec2vec(xtrain)"
   ]
  },
  {
   "cell_type": "code",
   "execution_count": 23,
   "metadata": {},
   "outputs": [],
   "source": [
    "embedding_mat_test = sec2vec(xtest)"
   ]
  },
  {
   "cell_type": "code",
   "execution_count": 25,
   "metadata": {},
   "outputs": [
    {
     "name": "stderr",
     "output_type": "stream",
     "text": [
      "Using TensorFlow backend.\n"
     ]
    }
   ],
   "source": [
    "import keras\n",
    "from keras.models import Sequential\n",
    "from keras.layers import *"
   ]
  },
  {
   "cell_type": "code",
   "execution_count": 48,
   "metadata": {},
   "outputs": [
    {
     "ename": "ValueError",
     "evalue": "('`cell` should have a `call` method. The RNN was passed:', 64)",
     "output_type": "error",
     "traceback": [
      "\u001b[0;31m---------------------------------------------------------------------------\u001b[0m",
      "\u001b[0;31mValueError\u001b[0m                                Traceback (most recent call last)",
      "\u001b[0;32m<ipython-input-48-ddecde35dde3>\u001b[0m in \u001b[0;36m<module>\u001b[0;34m\u001b[0m\n\u001b[1;32m      1\u001b[0m \u001b[0mmodel\u001b[0m \u001b[0;34m=\u001b[0m \u001b[0mSequential\u001b[0m\u001b[0;34m(\u001b[0m\u001b[0;34m)\u001b[0m\u001b[0;34m\u001b[0m\u001b[0m\n\u001b[0;32m----> 2\u001b[0;31m \u001b[0mmodel\u001b[0m\u001b[0;34m.\u001b[0m\u001b[0madd\u001b[0m\u001b[0;34m(\u001b[0m\u001b[0mRNN\u001b[0m\u001b[0;34m(\u001b[0m\u001b[0;36m64\u001b[0m\u001b[0;34m,\u001b[0m\u001b[0minput_shape\u001b[0m\u001b[0;34m=\u001b[0m\u001b[0;34m(\u001b[0m\u001b[0;36m10\u001b[0m\u001b[0;34m,\u001b[0m\u001b[0;36m300\u001b[0m\u001b[0;34m)\u001b[0m\u001b[0;34m,\u001b[0m\u001b[0mreturn_sequences\u001b[0m \u001b[0;34m=\u001b[0m \u001b[0;32mTrue\u001b[0m\u001b[0;34m)\u001b[0m\u001b[0;34m)\u001b[0m\u001b[0;34m\u001b[0m\u001b[0m\n\u001b[0m\u001b[1;32m      3\u001b[0m \u001b[0mmodel\u001b[0m\u001b[0;34m.\u001b[0m\u001b[0madd\u001b[0m\u001b[0;34m(\u001b[0m\u001b[0mDropout\u001b[0m\u001b[0;34m(\u001b[0m\u001b[0;36m0.5\u001b[0m\u001b[0;34m)\u001b[0m\u001b[0;34m)\u001b[0m\u001b[0;34m\u001b[0m\u001b[0m\n\u001b[1;32m      4\u001b[0m \u001b[0mmodel\u001b[0m\u001b[0;34m.\u001b[0m\u001b[0madd\u001b[0m\u001b[0;34m(\u001b[0m\u001b[0mRNN\u001b[0m\u001b[0;34m(\u001b[0m\u001b[0;36m64\u001b[0m\u001b[0;34m,\u001b[0m\u001b[0mreturn_sequences\u001b[0m \u001b[0;34m=\u001b[0m \u001b[0;32mFalse\u001b[0m\u001b[0;34m)\u001b[0m\u001b[0;34m)\u001b[0m\u001b[0;34m\u001b[0m\u001b[0m\n\u001b[1;32m      5\u001b[0m \u001b[0mmodel\u001b[0m\u001b[0;34m.\u001b[0m\u001b[0madd\u001b[0m\u001b[0;34m(\u001b[0m\u001b[0mDense\u001b[0m\u001b[0;34m(\u001b[0m\u001b[0;36m1\u001b[0m\u001b[0;34m)\u001b[0m\u001b[0;34m)\u001b[0m\u001b[0;34m\u001b[0m\u001b[0m\n",
      "\u001b[0;32m~/ml/software/python_env/env_ten/lib/python3.5/site-packages/keras/layers/recurrent.py\u001b[0m in \u001b[0;36m__init__\u001b[0;34m(self, cell, return_sequences, return_state, go_backwards, stateful, unroll, **kwargs)\u001b[0m\n\u001b[1;32m    402\u001b[0m         \u001b[0;32mif\u001b[0m \u001b[0;32mnot\u001b[0m \u001b[0mhasattr\u001b[0m\u001b[0;34m(\u001b[0m\u001b[0mcell\u001b[0m\u001b[0;34m,\u001b[0m \u001b[0;34m'call'\u001b[0m\u001b[0;34m)\u001b[0m\u001b[0;34m:\u001b[0m\u001b[0;34m\u001b[0m\u001b[0m\n\u001b[1;32m    403\u001b[0m             raise ValueError('`cell` should have a `call` method. '\n\u001b[0;32m--> 404\u001b[0;31m                              'The RNN was passed:', cell)\n\u001b[0m\u001b[1;32m    405\u001b[0m         \u001b[0;32mif\u001b[0m \u001b[0;32mnot\u001b[0m \u001b[0mhasattr\u001b[0m\u001b[0;34m(\u001b[0m\u001b[0mcell\u001b[0m\u001b[0;34m,\u001b[0m \u001b[0;34m'state_size'\u001b[0m\u001b[0;34m)\u001b[0m\u001b[0;34m:\u001b[0m\u001b[0;34m\u001b[0m\u001b[0m\n\u001b[1;32m    406\u001b[0m             raise ValueError('The RNN cell should have '\n",
      "\u001b[0;31mValueError\u001b[0m: ('`cell` should have a `call` method. The RNN was passed:', 64)"
     ]
    }
   ],
   "source": [
    "model = Sequential()\n",
    "model.add(LSTM(64,input_shape=(10,300),return_sequences = True))\n",
    "model.add(Dropout(0.5))\n",
    "model.add(LSTM(64,return_sequences = False))\n",
    "model.add(Dense(1))\n",
    "model.add(Activation(\"sigmoid\"))\n",
    "model.summary()"
   ]
  },
  {
   "cell_type": "code",
   "execution_count": 31,
   "metadata": {},
   "outputs": [],
   "source": [
    "from keras.callbacks import ModelCheckpoint, EarlyStopping\n",
    "checkpoint = ModelCheckpoint(\"best_model_lstm.h5\",monitor = \"val_loss\",verbose = True,save_best_only=True)\n",
    "earlystop = EarlyStopping(monitor = \"val_acc\",patience = 14)"
   ]
  },
  {
   "cell_type": "code",
   "execution_count": 34,
   "metadata": {},
   "outputs": [
    {
     "name": "stdout",
     "output_type": "stream",
     "text": [
      "WARNING:tensorflow:From /home/vidooly/ml/software/python_env/env_ten/lib/python3.5/site-packages/tensorflow/python/ops/nn_impl.py:180: add_dispatch_support.<locals>.wrapper (from tensorflow.python.ops.array_ops) is deprecated and will be removed in a future version.\n",
      "Instructions for updating:\n",
      "Use tf.where in 2.0, which has the same broadcast rule as np.where\n"
     ]
    }
   ],
   "source": [
    "model.compile(optimizer = 'adam', loss = \"binary_crossentropy\", metrics = [\"acc\"])"
   ]
  },
  {
   "cell_type": "code",
   "execution_count": 35,
   "metadata": {},
   "outputs": [
    {
     "name": "stdout",
     "output_type": "stream",
     "text": [
      "WARNING:tensorflow:From /home/vidooly/ml/software/python_env/env_ten/lib/python3.5/site-packages/keras/backend/tensorflow_backend.py:422: The name tf.global_variables is deprecated. Please use tf.compat.v1.global_variables instead.\n",
      "\n",
      "Train on 32000 samples, validate on 8000 samples\n",
      "Epoch 1/100\n",
      "32000/32000 [==============================] - 7s 204us/step - loss: 0.6055 - acc: 0.6556 - val_loss: 0.5828 - val_acc: 0.6737\n",
      "\n",
      "Epoch 00001: val_loss improved from inf to 0.58276, saving model to best_model.h5\n",
      "Epoch 2/100\n",
      "32000/32000 [==============================] - 6s 181us/step - loss: 0.5711 - acc: 0.6850 - val_loss: 0.5734 - val_acc: 0.6842\n",
      "\n",
      "Epoch 00002: val_loss improved from 0.58276 to 0.57339, saving model to best_model.h5\n",
      "Epoch 3/100\n",
      "32000/32000 [==============================] - 5s 165us/step - loss: 0.5560 - acc: 0.7002 - val_loss: 0.5596 - val_acc: 0.6963\n",
      "\n",
      "Epoch 00003: val_loss improved from 0.57339 to 0.55957, saving model to best_model.h5\n",
      "Epoch 4/100\n",
      "32000/32000 [==============================] - 5s 167us/step - loss: 0.5443 - acc: 0.7067 - val_loss: 0.5553 - val_acc: 0.7001\n",
      "\n",
      "Epoch 00004: val_loss improved from 0.55957 to 0.55534, saving model to best_model.h5\n",
      "Epoch 5/100\n",
      "32000/32000 [==============================] - 6s 180us/step - loss: 0.5300 - acc: 0.7175 - val_loss: 0.5544 - val_acc: 0.6952\n",
      "\n",
      "Epoch 00005: val_loss improved from 0.55534 to 0.55435, saving model to best_model.h5\n",
      "Epoch 6/100\n",
      "32000/32000 [==============================] - 5s 169us/step - loss: 0.5159 - acc: 0.7280 - val_loss: 0.5552 - val_acc: 0.6956\n",
      "\n",
      "Epoch 00006: val_loss did not improve from 0.55435\n",
      "Epoch 7/100\n",
      "32000/32000 [==============================] - 5s 165us/step - loss: 0.5023 - acc: 0.7360 - val_loss: 0.5538 - val_acc: 0.6964\n",
      "\n",
      "Epoch 00007: val_loss improved from 0.55435 to 0.55376, saving model to best_model.h5\n",
      "Epoch 8/100\n",
      "32000/32000 [==============================] - 5s 168us/step - loss: 0.4845 - acc: 0.7513 - val_loss: 0.5625 - val_acc: 0.7020\n",
      "\n",
      "Epoch 00008: val_loss did not improve from 0.55376\n",
      "Epoch 9/100\n",
      "32000/32000 [==============================] - 6s 177us/step - loss: 0.4638 - acc: 0.7650 - val_loss: 0.5668 - val_acc: 0.7011\n",
      "\n",
      "Epoch 00009: val_loss did not improve from 0.55376\n",
      "Epoch 10/100\n",
      "32000/32000 [==============================] - 5s 166us/step - loss: 0.4498 - acc: 0.7726 - val_loss: 0.5937 - val_acc: 0.7020\n",
      "\n",
      "Epoch 00010: val_loss did not improve from 0.55376\n",
      "Epoch 11/100\n",
      "32000/32000 [==============================] - 5s 164us/step - loss: 0.4271 - acc: 0.7895 - val_loss: 0.5820 - val_acc: 0.6913\n",
      "\n",
      "Epoch 00011: val_loss did not improve from 0.55376\n",
      "Epoch 12/100\n",
      "32000/32000 [==============================] - 6s 182us/step - loss: 0.4057 - acc: 0.8013 - val_loss: 0.6447 - val_acc: 0.7017\n",
      "\n",
      "Epoch 00012: val_loss did not improve from 0.55376\n",
      "Epoch 13/100\n",
      "32000/32000 [==============================] - 5s 165us/step - loss: 0.3859 - acc: 0.8155 - val_loss: 0.6353 - val_acc: 0.6935\n",
      "\n",
      "Epoch 00013: val_loss did not improve from 0.55376\n",
      "Epoch 14/100\n",
      "32000/32000 [==============================] - 5s 165us/step - loss: 0.3626 - acc: 0.8288 - val_loss: 0.6902 - val_acc: 0.6930\n",
      "\n",
      "Epoch 00014: val_loss did not improve from 0.55376\n",
      "Epoch 15/100\n",
      "32000/32000 [==============================] - 6s 181us/step - loss: 0.3412 - acc: 0.8414 - val_loss: 0.7172 - val_acc: 0.6995\n",
      "\n",
      "Epoch 00015: val_loss did not improve from 0.55376\n",
      "Epoch 16/100\n",
      "32000/32000 [==============================] - 5s 166us/step - loss: 0.3242 - acc: 0.8493 - val_loss: 0.7397 - val_acc: 0.6969\n",
      "\n",
      "Epoch 00016: val_loss did not improve from 0.55376\n",
      "Epoch 17/100\n",
      "32000/32000 [==============================] - 5s 167us/step - loss: 0.2999 - acc: 0.8622 - val_loss: 0.8264 - val_acc: 0.6948\n",
      "\n",
      "Epoch 00017: val_loss did not improve from 0.55376\n",
      "Epoch 18/100\n",
      "32000/32000 [==============================] - 5s 170us/step - loss: 0.2874 - acc: 0.8677 - val_loss: 0.8630 - val_acc: 0.6883\n",
      "\n",
      "Epoch 00018: val_loss did not improve from 0.55376\n",
      "Epoch 19/100\n",
      "32000/32000 [==============================] - 5s 171us/step - loss: 0.2659 - acc: 0.8789 - val_loss: 0.8679 - val_acc: 0.6889\n",
      "\n",
      "Epoch 00019: val_loss did not improve from 0.55376\n",
      "Epoch 20/100\n",
      "32000/32000 [==============================] - 5s 165us/step - loss: 0.2488 - acc: 0.8887 - val_loss: 0.8403 - val_acc: 0.6816\n",
      "\n",
      "Epoch 00020: val_loss did not improve from 0.55376\n",
      "Epoch 21/100\n",
      "32000/32000 [==============================] - 5s 157us/step - loss: 0.2351 - acc: 0.8974 - val_loss: 0.9577 - val_acc: 0.6810\n",
      "\n",
      "Epoch 00021: val_loss did not improve from 0.55376\n",
      "Epoch 22/100\n",
      "32000/32000 [==============================] - 6s 178us/step - loss: 0.2203 - acc: 0.9040 - val_loss: 1.0051 - val_acc: 0.6794\n",
      "\n",
      "Epoch 00022: val_loss did not improve from 0.55376\n"
     ]
    },
    {
     "data": {
      "text/plain": [
       "<keras.callbacks.callbacks.History at 0x7f42b526d7b8>"
      ]
     },
     "execution_count": 35,
     "metadata": {},
     "output_type": "execute_result"
    }
   ],
   "source": [
    "model.fit(stae_vec,ytrain,epochs = 100,batch_size = 64,shuffle = True,validation_split = 0.2,callbacks = [checkpoint,earlystop])"
   ]
  },
  {
   "cell_type": "code",
   "execution_count": 38,
   "metadata": {},
   "outputs": [],
   "source": [
    "model.load_weights(\"best_model.h5\")\n",
    "pred = model.predict(embedding_mat_test)"
   ]
  },
  {
   "cell_type": "code",
   "execution_count": 46,
   "metadata": {},
   "outputs": [],
   "source": [
    "classes = []\n",
    "for i in pred:\n",
    "    if i>0.5:\n",
    "        classes.append('pos')\n",
    "    else:\n",
    "        classes.append('neg')"
   ]
  },
  {
   "cell_type": "code",
   "execution_count": 47,
   "metadata": {},
   "outputs": [],
   "source": [
    "import pandas as pd\n",
    "pd.DataFrame(classes).to_csv(\"Predicted.csv\",index = False)"
   ]
  },
  {
   "cell_type": "code",
   "execution_count": null,
   "metadata": {},
   "outputs": [],
   "source": []
  }
 ],
 "metadata": {
  "kernelspec": {
   "display_name": "Python 3",
   "language": "python",
   "name": "python3"
  },
  "language_info": {
   "codemirror_mode": {
    "name": "ipython",
    "version": 3
   },
   "file_extension": ".py",
   "mimetype": "text/x-python",
   "name": "python",
   "nbconvert_exporter": "python",
   "pygments_lexer": "ipython3",
   "version": "3.5.2"
  }
 },
 "nbformat": 4,
 "nbformat_minor": 2
}
